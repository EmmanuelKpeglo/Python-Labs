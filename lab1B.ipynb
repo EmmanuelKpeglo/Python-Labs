{
 "cells": [
  {
   "cell_type": "markdown",
   "id": "38ae74ae",
   "metadata": {},
   "source": [
    "# Q5"
   ]
  },
  {
   "cell_type": "code",
   "execution_count": 26,
   "id": "f71f2e2e",
   "metadata": {},
   "outputs": [
    {
     "name": "stdout",
     "output_type": "stream",
     "text": [
      "Expression\tType\t\tVerified Type\n",
      "5\t\tTrue\t\t<class 'int'>\n",
      "\n",
      "Expression\tType\t\tVerified Type\n",
      "j\t\tTrue\t\t<class 'str'>\n",
      "\n",
      "Expression\tType\t\tVerified Type\n",
      "1j\t\tTrue\t\t<class 'complex'>\n",
      "\n",
      "Expression\tType\t\tVerified Type\n",
      "(1,)\t\tTrue\t\t<class 'tuple'>\n",
      "\n",
      "Expression\tType\t\tVerified Type\n",
      "[1]\t\tTrue\t\t<class 'list'>\n",
      "\n",
      "Expression\tType\t\tVerified Type\n",
      "None\t\tFalse\t\t<class 'NoneType'>\n",
      "\n"
     ]
    }
   ],
   "source": [
    "expressions = [5, 'j', 1j, (1,), [1], None]\n",
    "\n",
    "for expression in expressions:\n",
    "    print(\"Expression\\tType\\t\\tVerified Type\")\n",
    "    print(str(expression)+ \"\\t\\t\" + str(isinstance(expression, (int, str, complex, tuple, list))) + \"\\t\\t\" + str(type(expression)) + \"\\n\")"
   ]
  },
  {
   "cell_type": "markdown",
   "id": "3692fee6",
   "metadata": {},
   "source": [
    "# Q7"
   ]
  },
  {
   "cell_type": "code",
   "execution_count": 11,
   "id": "db0472d8",
   "metadata": {},
   "outputs": [
    {
     "name": "stdout",
     "output_type": "stream",
     "text": [
      "[0, 1, 1, 2, 3, 5, 8, 13, 21, 34, 55, 89, 144, 233, 377, 610, 987, 1597, 2584, 4181]\n"
     ]
    }
   ],
   "source": [
    "previousNumber = 0\n",
    "currentNumber = 1\n",
    "fibonacciNumbers = [previousNumber, currentNumber]\n",
    "counter = 1\n",
    "limit = 20\n",
    "while counter < limit-1:\n",
    "    nextNumber = previousNumber + currentNumber\n",
    "    fibonacciNumbers.append(nextNumber)\n",
    "    \n",
    "    previousNumber = currentNumber\n",
    "    currentNumber = nextNumber\n",
    "    \n",
    "    counter += 1\n",
    "    \n",
    "print(fibonacciNumbers)\n"
   ]
  },
  {
   "cell_type": "markdown",
   "id": "3ae1f901",
   "metadata": {},
   "source": [
    "# Q8"
   ]
  },
  {
   "cell_type": "code",
   "execution_count": 82,
   "id": "180ae68d",
   "metadata": {},
   "outputs": [
    {
     "name": "stdout",
     "output_type": "stream",
     "text": [
      "Last character in \"Emmanuel kpeglo\" is: \"o\"\n"
     ]
    }
   ],
   "source": [
    "name = \"Emmanuel kpeglo\"\n",
    "print('Last character in ' + '\"' + name + '\"'+ ' is: ' + '\"' + name[-1] + '\"')"
   ]
  },
  {
   "cell_type": "code",
   "execution_count": 87,
   "id": "f84b7295",
   "metadata": {},
   "outputs": [
    {
     "name": "stdout",
     "output_type": "stream",
     "text": [
      "E:m:m:a:n:u:e:l:k:p:e:g:l:o:"
     ]
    }
   ],
   "source": [
    "name = list(name)\n",
    "for letter in name:\n",
    "    if letter == \" \":\n",
    "        continue\n",
    "    print(letter, end=\":\")\n",
    "    "
   ]
  },
  {
   "cell_type": "markdown",
   "id": "5441a3c6",
   "metadata": {},
   "source": [
    "# Q9"
   ]
  },
  {
   "cell_type": "code",
   "execution_count": null,
   "id": "706cb933",
   "metadata": {},
   "outputs": [],
   "source": []
  }
 ],
 "metadata": {
  "kernelspec": {
   "display_name": "Python 3",
   "language": "python",
   "name": "python3"
  },
  "language_info": {
   "codemirror_mode": {
    "name": "ipython",
    "version": 3
   },
   "file_extension": ".py",
   "mimetype": "text/x-python",
   "name": "python",
   "nbconvert_exporter": "python",
   "pygments_lexer": "ipython3",
   "version": "3.8.8"
  }
 },
 "nbformat": 4,
 "nbformat_minor": 5
}
