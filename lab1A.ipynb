{
 "cells": [
  {
   "cell_type": "markdown",
   "id": "c0759f93",
   "metadata": {},
   "source": [
    "# Q1"
   ]
  },
  {
   "cell_type": "code",
   "execution_count": 3,
   "id": "22e6d46b",
   "metadata": {
    "scrolled": true
   },
   "outputs": [
    {
     "name": "stdout",
     "output_type": "stream",
     "text": [
      "hello world yoo\n"
     ]
    }
   ],
   "source": [
    "world = \"yoo\"\n",
    "print(\"hello world \" + world)"
   ]
  },
  {
   "cell_type": "markdown",
   "id": "63d7e7f9",
   "metadata": {},
   "source": [
    "# Q2"
   ]
  },
  {
   "cell_type": "code",
   "execution_count": 9,
   "id": "92e3cb3c",
   "metadata": {},
   "outputs": [
    {
     "name": "stdout",
     "output_type": "stream",
     "text": [
      "Enter a cool number!89\n",
      "The number you entered is an odd number...\n"
     ]
    }
   ],
   "source": [
    "num = int(input(\"Enter a cool number!\"))\n",
    "if (num % 2 == 0 ):\n",
    "    print(\"The number you entered is an even number...\")\n",
    "else:\n",
    "    print(\"The number you entered is an odd number...\")"
   ]
  },
  {
   "cell_type": "markdown",
   "id": "03905953",
   "metadata": {},
   "source": [
    "# Q3"
   ]
  },
  {
   "cell_type": "code",
   "execution_count": 38,
   "id": "e5c1f224",
   "metadata": {},
   "outputs": [
    {
     "name": "stdout",
     "output_type": "stream",
     "text": [
      "Emmanuel Kpeglo\n",
      "25\n",
      "Emmanuel Kpeglo - 25\n"
     ]
    }
   ],
   "source": [
    "name = \"Emmanuel Kpeglo\"\n",
    "age = 25\n",
    "print(name)\n",
    "print(age)\n",
    "nameAge = name + \" - \" + str(age)\n",
    "print(nameAge)"
   ]
  },
  {
   "cell_type": "markdown",
   "id": "099f67c1",
   "metadata": {},
   "source": [
    "# Q4"
   ]
  },
  {
   "cell_type": "code",
   "execution_count": 35,
   "id": "fc963d21",
   "metadata": {},
   "outputs": [
    {
     "name": "stdout",
     "output_type": "stream",
     "text": [
      "Guess a number between 0 and 9\n",
      "1\n",
      "You guessed the wrong number\n",
      "Guess a number between 0 and 9\n",
      "9\n",
      "You guessed the wrong number\n",
      "Guess a number between 0 and 9\n",
      "7\n",
      "You guessed the wrong number\n",
      "Guess a number between 0 and 9\n",
      "8\n",
      "You guessed the wrong number\n",
      "Guess a number between 0 and 9\n",
      "5\n",
      "You guessed the wrong number\n",
      "Guess a number between 0 and 9\n",
      "3\n",
      "You guessed the wrong number\n",
      "Guess a number between 0 and 9\n",
      "4\n",
      "You guessed the wrong number\n",
      "Guess a number between 0 and 9\n",
      "6\n",
      "You guessed the wrong number\n",
      "Guess a number between 0 and 9\n",
      "1\n",
      "You guessed the wrong number\n",
      "Guess a number between 0 and 9\n",
      "2\n",
      "You guessed the wrong number\n",
      "Guess a number between 0 and 9\n",
      "0\n",
      "You guessed the right number\n"
     ]
    }
   ],
   "source": [
    "import random\n",
    "rightNumber = random.randint(0, 9)\n",
    "\n",
    "while True:\n",
    "    guess = int(input(\"Guess a number between 0 and 9\\n\"))\n",
    "    if guess == rightNumber:\n",
    "        print(\"You guessed the right number\")\n",
    "        break\n",
    "    else:\n",
    "        print(\"You guessed the wrong number\")"
   ]
  },
  {
   "cell_type": "markdown",
   "id": "5ae1d5f7",
   "metadata": {},
   "source": [
    "# Q5"
   ]
  },
  {
   "cell_type": "code",
   "execution_count": 36,
   "id": "d5a30ab1",
   "metadata": {},
   "outputs": [
    {
     "name": "stdout",
     "output_type": "stream",
     "text": [
      "4\n",
      "16\n"
     ]
    }
   ],
   "source": [
    "myList = [1, 4, 9, 16, 25]\n",
    "for num in myList:\n",
    "    if (num % 2 == 0):\n",
    "        print(num)"
   ]
  },
  {
   "cell_type": "markdown",
   "id": "5e44b396",
   "metadata": {},
   "source": [
    "# Q6"
   ]
  },
  {
   "cell_type": "code",
   "execution_count": 43,
   "id": "48c62c82",
   "metadata": {},
   "outputs": [
    {
     "name": "stdout",
     "output_type": "stream",
     "text": [
      "120\n"
     ]
    }
   ],
   "source": [
    "sumOfAllYears = 0\n",
    "yearNumber = 1\n",
    "currentAge = 25\n",
    "\n",
    "while yearNumber <= currentAge:\n",
    "    sumOfAllYears += yearNumber\n",
    "    if yearNumber == 15:\n",
    "        print(sumOfAllYears)\n",
    "        break\n",
    "    yearNumber += 1"
   ]
  },
  {
   "cell_type": "code",
   "execution_count": null,
   "id": "fa95ff28",
   "metadata": {},
   "outputs": [],
   "source": []
  }
 ],
 "metadata": {
  "kernelspec": {
   "display_name": "Python 3",
   "language": "python",
   "name": "python3"
  },
  "language_info": {
   "codemirror_mode": {
    "name": "ipython",
    "version": 3
   },
   "file_extension": ".py",
   "mimetype": "text/x-python",
   "name": "python",
   "nbconvert_exporter": "python",
   "pygments_lexer": "ipython3",
   "version": "3.8.8"
  }
 },
 "nbformat": 4,
 "nbformat_minor": 5
}
